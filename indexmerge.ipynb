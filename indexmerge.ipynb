{
 "cells": [
  {
   "cell_type": "code",
   "execution_count": 1,
   "id": "dc270ae9",
   "metadata": {},
   "outputs": [],
   "source": [
    "import os\n",
    "#root = 'D:/Python/finalsortedfile.txt'\n",
    "root = 'D:/Python'\n",
    "root1 = 'D:/Python/finalsortedfile.txt'"
   ]
  },
  {
   "cell_type": "code",
   "execution_count": 2,
   "id": "69e0e3af",
   "metadata": {},
   "outputs": [],
   "source": [
    "fv  = open(root1, \"r\") # 旧的文件\n",
    "fv1 = open(os.path.join(root, \"result.txt\"), \"a\")  #新的文件\n",
    "wordnumber = -1\n",
    "\n",
    "for line in fv.readlines():\n",
    "    items = line.strip().split(' ')\n",
    "    #print(str(items[0]))\n",
    "    \n",
    "    if str(items[0]) == str(wordnumber):\n",
    "        fv1.write(' ')\n",
    "        fv1.write(str(items[1]))\n",
    "        \n",
    "    if str(items[0]) != str(wordnumber):\n",
    "        if wordnumber != -1:\n",
    "            fv1.write('\\n')\n",
    "        fv1.write(str(items[0]))\n",
    "        fv1.write(' ')\n",
    "        fv1.write(str(items[1]))\n",
    "        wordnumber = wordnumber + 1\n",
    "\n",
    "    \n",
    "fv.close()\n",
    "fv1.close()     "
   ]
  },
  {
   "cell_type": "code",
   "execution_count": null,
   "id": "746ba789",
   "metadata": {},
   "outputs": [],
   "source": []
  }
 ],
 "metadata": {
  "kernelspec": {
   "display_name": "Python 3 (ipykernel)",
   "language": "python",
   "name": "python3"
  },
  "language_info": {
   "codemirror_mode": {
    "name": "ipython",
    "version": 3
   },
   "file_extension": ".py",
   "mimetype": "text/x-python",
   "name": "python",
   "nbconvert_exporter": "python",
   "pygments_lexer": "ipython3",
   "version": "3.8.5"
  },
  "toc": {
   "base_numbering": 1,
   "nav_menu": {},
   "number_sections": true,
   "sideBar": true,
   "skip_h1_title": false,
   "title_cell": "Table of Contents",
   "title_sidebar": "Contents",
   "toc_cell": false,
   "toc_position": {},
   "toc_section_display": true,
   "toc_window_display": false
  }
 },
 "nbformat": 4,
 "nbformat_minor": 5
}
